{
 "cells": [
  {
   "cell_type": "markdown",
   "id": "441a2e8d",
   "metadata": {},
   "source": [
    "Question 1\n",
    "Consider the following Python module\n",
    "a = 0\n",
    "def b():\n",
    " global a\n",
    " a = c(a)\n",
    "def c(a):\n",
    " return a + 2\n",
    "After importing the module into the interpreter, you execute:\n",
    ">>> b()\n",
    ">>> b()\n",
    ">>> b()\n",
    ">>> a\n",
    "?\n",
    "What value is displayed when the last expression (a) is evaluated? Explain your answer by indicating what happens in every executed statement"
   ]
  },
  {
   "cell_type": "markdown",
   "id": "67229d6c",
   "metadata": {},
   "source": [
    "1. a=0, Here the line initializes variable 'a' with a value 0.\n",
    "2. def b(): and global a, defines a function 'b' and declares it should be use the variable 'a'.\n",
    "3. a=c(a), In the function 'b', new function 'c' is called with the current value of 'a' ie,0 .\n",
    "4. The result c(a) is c(0)\n",
    "5. Returns  0 + 2, now a = 2\n",
    "For executing  the statements:\n",
    "1. Here a = 2.\n",
    "2. Calls the function 'b', in the function it updates the value of 'a' ie, 2.\n",
    "3. And then calls the function c, c(a) = c(2)\n",
    "4. Returns 2 + 2 = 4  \n",
    "5. Then the value of a is updated as 4 \n",
    "6. Once more the function b is called and takes the current value of a, ie 4\n",
    "7. For the function c, c(a) = c(4)\n",
    "8. Returns 4 + 2 = 6 \n",
    "Here after executing, the value of 'a' has been updated three times. now a= 6. \n",
    "When 'a' is executed in the interpreter it display: 6\n",
    "\n"
   ]
  },
  {
   "cell_type": "markdown",
   "id": "194e6310",
   "metadata": {},
   "source": [
    "Question 2\n",
    "Function fileLength(), given to you, takes the name of a file as input and returns \n",
    "the length of the file:\n",
    ">>> fileLength('midterm.py')\n",
    "284\n",
    ">>> fileLength('idterm.py')\n",
    "Traceback (most recent call last):\n",
    "File \"<pyshell#34>\", line 1, in <module>\n",
    " fileLength('idterm.py')\n",
    "File \"/Users/me/midterm.py\", line 3, in fileLength\n",
    " infile = open(filename)\n",
    "FileNotFoundError: [Errno 2] No such file or directory: \n",
    "'idterm.py'\n",
    "As shown above, if the file cannot be found by the interpreter or if it cannot be read \n",
    "as a text file, an exception will be raised. Modify function fileLength() so that a \n",
    "friendly message is printed instead:\n",
    ">>> fileLength('midterm.py')\n",
    "358\n",
    ">>> fileLength('idterm.py')\n",
    "File idterm.py not found.\n"
   ]
  },
  {
   "cell_type": "code",
   "execution_count": 6,
   "id": "90de1476",
   "metadata": {},
   "outputs": [
    {
     "name": "stdout",
     "output_type": "stream",
     "text": [
      "File midterm.py not found.\n",
      "File idterm.py not found.\n"
     ]
    }
   ],
   "source": [
    "def fileLength(filename):\n",
    "    try:\n",
    "        # Try to open the file for reading ('r')\n",
    "        with open(filename, 'r') as infile:\n",
    "            length = 0  # Initialize a variable\n",
    "            for line in infile:\n",
    "                length += len(line)  # Add the length of each line\n",
    "            return length  # Return the total length of the file\n",
    "    except FileNotFoundError:\n",
    "        # The case where the file is not found and print an error message.\n",
    "        print(f\"File {filename} not found.\")\n",
    "\n",
    "# Test the modified function\n",
    "file_length = fileLength('midterm.py')  # Test with an existing file\n",
    "if file_length is not None:\n",
    "    print(file_length)  # Print the length of the file\n",
    "file_length = fileLength('idterm.py')  # Test with a non-existing file\n",
    "\n",
    "\n"
   ]
  },
  {
   "cell_type": "markdown",
   "id": "697351bf",
   "metadata": {},
   "source": [
    "Question 3\n",
    "Write a class named Marsupial that can be used as shown below:\n",
    ">>> m = Marsupial()\n",
    ">>> m.put_in_pouch('doll')\n",
    ">>> m.put_in_pouch('firetruck')\n",
    ">>> m.put_in_pouch('kitten')\n",
    ">>> m.pouch_contents()\n",
    "['doll', 'firetruck', 'kitten']\n",
    "Now write a class named Kangaroo as a subclass of Marsupial that inherits all the \n",
    "attributes of Marsupial and also:\n",
    "a.extends the Marsupial __init__ constructor to take, as input, the \n",
    "coordinates x and y of the Kangaroo object,\n",
    "b. supports method jump that takes number values dx and dy as input and \n",
    "moves the kangaroo by dx units along the x-axis and by dy units along the y\u0002axis, and\n",
    "c. overloads the __str__ operator so it behaves as shown below.\n",
    ">>> k = Kangaroo(0,0)\n",
    ">>> print(k)\n",
    "I am a Kangaroo located at coordinates (0,0)\n",
    ">>> k.put_in_pouch('doll')\n",
    ">>> k.put_in_pouch('firetruck')\n",
    ">>> k.put_in_pouch('kitten')\n",
    ">>> k.pouch_contents()\n",
    "['doll', 'firetruck', 'kitten']\n",
    ">>> k.jump(1,0)\n",
    ">>> k.jump(1,0)\n",
    ">>> k.jump(1,0)\n",
    ">>> print(k)\n",
    "I am a Kangaroo located at coordinates (3,0)"
   ]
  },
  {
   "cell_type": "code",
   "execution_count": 38,
   "id": "c60177fd",
   "metadata": {},
   "outputs": [
    {
     "name": "stdout",
     "output_type": "stream",
     "text": [
      "['doll', 'firetruck', 'kitten']\n",
      "I am a Kangaroo located at coordinates (0,0)\n",
      "['joey', 'stick']\n",
      "I am a Kangaroo located at coordinates (3,0)\n"
     ]
    }
   ],
   "source": [
    "# Define class Marsupial\n",
    "class Marsupial:\n",
    "    def __init__(self):\n",
    "        # Initialize an empty pouch list\n",
    "        self.pouch = []\n",
    "\n",
    "    # Method to add an item in the pouch\n",
    "    def put_in_pouch(self, item):\n",
    "        self.pouch.append(item)\n",
    "\n",
    "    # Method to get the contents of the pouch\n",
    "    def pouch_contents(self):\n",
    "        return self.pouch\n",
    "\n",
    "# Define the new class Kangaroo as a subclass of Marsupial\n",
    "class Kangaroo(Marsupial):\n",
    "    \n",
    "    def __init__(self, x, y):\n",
    "        \n",
    "        super().__init__()\n",
    "        # Initialize the x and y coordinates for the Kangaroo\n",
    "        self.x = x\n",
    "        self.y = y\n",
    "\n",
    "    # Method for the Kangaroo to jump by specified dx and dy\n",
    "    def jump(self, dx, dy):\n",
    "        self.x += dx\n",
    "        self.y += dy\n",
    "\n",
    "   \n",
    "    def __str__(self):\n",
    "        return f\"I am a Kangaroo located at coordinates ({self.x},{self.y})\"\n",
    "\n",
    "# Testing the classes\n",
    "m = Marsupial()\n",
    "m.put_in_pouch('doll')\n",
    "m.put_in_pouch('firetruck')\n",
    "m.put_in_pouch('kitten')\n",
    "print(m.pouch_contents())\n",
    "\n",
    "k = Kangaroo(0, 0)\n",
    "print(k)  # Print the Kangaroo's location\n",
    "k.put_in_pouch('joey')\n",
    "k.put_in_pouch('stick')\n",
    "print(k.pouch_contents())\n",
    "\n",
    "# Make the Kangaroo jump three times\n",
    "k.jump(1, 0)\n",
    "k.jump(1, 0)\n",
    "k.jump(1, 0)\n",
    "print(k)  # Print the Kangaroo's updated location\n"
   ]
  },
  {
   "cell_type": "markdown",
   "id": "f106b902",
   "metadata": {},
   "source": [
    "Question 4\n",
    "Write function collatz() that takes a positive integer x as input and prints the \n",
    "Collatz sequence starting at x. A Collatz sequence is obtained by repeatedly applying \n",
    "this rule to the previous number x in the sequence:\n",
    "x = {\n",
    "𝑥/2 𝑖𝑓 𝑥 𝑖𝑠 𝑒𝑣𝑒𝑛\n",
    "3𝑥 + 1 𝑖𝑓 𝑥 𝑖𝑠 𝑜𝑑𝑑\n",
    "Your function should stop when the sequence gets to number 1. Your \n",
    "implementation must be recursive, without any loops.\n",
    ">>> collatz(1)\n",
    "1\n",
    ">>> collatz(10)\n",
    "10\n",
    "5\n",
    "16\n",
    "8\n",
    "4\n",
    "2\n",
    "1\n"
   ]
  },
  {
   "cell_type": "code",
   "execution_count": 12,
   "id": "68dde9b0",
   "metadata": {},
   "outputs": [
    {
     "name": "stdout",
     "output_type": "stream",
     "text": [
      "1\n",
      "10\n",
      "5\n",
      "16\n",
      "8\n",
      "4\n",
      "2\n",
      "1\n"
     ]
    }
   ],
   "source": [
    "def collatz(x):\n",
    "    print(x)  # Print the current number in the sequence\n",
    "    \n",
    "    if x == 1:\n",
    "        return\n",
    "    \n",
    "    # If x is even, calculate the next number as x divided by 2\n",
    "    if x % 2 == 0:\n",
    "        collatz(x // 2)\n",
    "    else:\n",
    "        # If x is odd, calculate the next number as 3x + 1\n",
    "        collatz(3 * x + 1)\n",
    "\n",
    "# Test the function with different values of x\n",
    "collatz(1)  # Test with x = 1, which immediately prints 1 and terminates\n",
    "collatz(10)  # Test with x = 10, which generates the Collatz sequence\n"
   ]
  },
  {
   "cell_type": "markdown",
   "id": "bd9888f1",
   "metadata": {},
   "source": [
    "Question 5\n",
    "Write a recursive method binary() that takes a non-negative \n",
    "integer n and prints the binary representation of integer n.\n",
    ">>> binary(0)\n",
    "0\n",
    ">>> binary(1)\n",
    "1\n",
    ">>> binary(3)\n",
    "11\n",
    ">>> binary(9)\n",
    "1001"
   ]
  },
  {
   "cell_type": "code",
   "execution_count": 39,
   "id": "9755bc63",
   "metadata": {},
   "outputs": [
    {
     "name": "stdout",
     "output_type": "stream",
     "text": [
      "0\n",
      "1\n",
      "11\n",
      "1001\n"
     ]
    }
   ],
   "source": [
    "def binary(n):\n",
    "    if n == 0:\n",
    "        # If n is 0, print 0 and continue\n",
    "        print(0, end='')\n",
    "    elif n == 1:\n",
    "        # If n is 1, print 1 and continue\n",
    "        print(1, end='')\n",
    "    else:\n",
    "        \n",
    "        binary(n // 2)\n",
    "    \n",
    "        print(n % 2, end='')\n",
    "\n",
    "# Test the function with different values of n\n",
    "binary(0)  # Test with n = 0\n",
    "print()  # Print a newline \n",
    "\n",
    "binary(1)  # Test with n = 1\n",
    "print()  \n",
    "\n",
    "binary(3)  # Test with n = 3\n",
    "print()  \n",
    "\n",
    "binary(9)  # Test with n = 9\n",
    "print()  \n"
   ]
  },
  {
   "cell_type": "markdown",
   "id": "b5084103",
   "metadata": {},
   "source": [
    "Question 8\n",
    "Write SQL queries on the below database table that return: \n",
    "a) All the temperature data.\n",
    "b) All the cities, but without repetition.\n",
    "c) All the records for India.\n",
    "d) All the Fall records.\n",
    "e) The city, country, and season for which the average rainfall is between 200 \n",
    "and 400 millimeters.\n",
    "f) The city and country for which the average Fall temperature is above 20 \n",
    "degrees, in increasing temperature order.\n",
    "g) The total annual rainfall for Cairo.\n",
    "h) The total rainfall for each season.\n"
   ]
  },
  {
   "cell_type": "code",
   "execution_count": 23,
   "id": "77cc5656",
   "metadata": {},
   "outputs": [
    {
     "name": "stdout",
     "output_type": "stream",
     "text": [
      "a) All Temperature Data: [(24.8,), (28.4,), (27.9,), (27.6,), (4.2,), (8.3,), (15.7,), (10.4,), (13.6,), (20.7,), (27.7,), (22.2,)]\n",
      "b) All Unique Cities: [('Mumbai',), ('London',), ('Cairo',)]\n",
      "c) Records for India: [('Mumbai', 'India', 'Winter', 24.8, 5.9), ('Mumbai', 'India', 'Spring', 28.4, 16.2), ('Mumbai', 'India', 'Summer', 27.9, 1549.4), ('Mumbai', 'India', 'Fall', 27.6, 346.0)]\n",
      "d) Fall Records: [('Mumbai', 'India', 'Fall', 27.6, 346.0), ('London', 'United Kingdom', 'Fall', 10.4, 218.5), ('Cairo', 'Egypt', 'Fall', 22.2, 4.5)]\n",
      "e) Average Rainfall between 200 and 400: [('London', 'United Kingdom', 'Fall'), ('London', 'United Kingdom', 'Winter'), ('Mumbai', 'India', 'Fall')]\n",
      "f) High-Temperature Cities in Fall: [('Cairo', 'Egypt'), ('Mumbai', 'India')]\n",
      "g) Total Rainfall for Cairo: 27.6\n",
      "h) Total Rainfall by Season: [('Fall', 569.0), ('Spring', 192.29999999999998), ('Summer', 1706.5), ('Winter', 230.1)]\n"
     ]
    }
   ],
   "source": [
    "import sqlite3 # Import the SQLite library\n",
    "\n",
    "conn = sqlite3.connect('annite_gee_varghese.db') #create database \n",
    "cursor = conn.cursor() # Create a cursor object\n",
    "# Create a table named 'weather'\n",
    "cursor.execute('''\n",
    "    CREATE TABLE weather \n",
    "    (City TEXT, Country TEXT, Season TEXT, \"Temperature(C)\" FLOAT, \"Rainfall(mm)\" FLOAT)\n",
    "''')\n",
    "\n",
    "weather_data = [\n",
    "    ('Mumbai', 'India', 'Winter', 24.8, 5.9),\n",
    "    ('Mumbai', 'India', 'Spring', 28.4, 16.2),\n",
    "    ('Mumbai', 'India', 'Summer', 27.9, 1549.4),\n",
    "    ('Mumbai', 'India', 'Fall', 27.6, 346.0),\n",
    "    ('London', 'United Kingdom', 'Winter', 4.2, 207.7),\n",
    "    ('London', 'United Kingdom', 'Spring', 8.3, 169.6),\n",
    "    ('London', 'United Kingdom', 'Summer', 15.7, 157.0),\n",
    "    ('London', 'United Kingdom', 'Fall', 10.4, 218.5),\n",
    "    ('Cairo', 'Egypt', 'Winter', 13.6, 16.5),\n",
    "    ('Cairo', 'Egypt', 'Spring', 20.7, 6.5),\n",
    "    ('Cairo', 'Egypt', 'Summer', 27.7, 0.1),\n",
    "    ('Cairo', 'Egypt', 'Fall', 22.2, 4.5)\n",
    "]\n",
    "\n",
    "cursor.executemany('''\n",
    "    INSERT INTO weather (City, Country, Season, \"Temperature(C)\", \"Rainfall(mm)\")\n",
    "    VALUES (?, ?, ?, ?, ?)\n",
    "''', weather_data)\n",
    "# a) All the temperature data.\n",
    "cursor.execute('SELECT \"Temperature(C)\" FROM weather')\n",
    "temperature_data = cursor.fetchall()\n",
    "\n",
    "#b) All the cities, but without repetition.\n",
    "cursor.execute('SELECT DISTINCT City FROM weather')\n",
    "unique_cities = cursor.fetchall()\n",
    "\n",
    "#c) All the records for India.\n",
    "cursor.execute('SELECT * FROM weather WHERE Country = \"India\"')\n",
    "india_records = cursor.fetchall()\n",
    "\n",
    "#d) All the Fall records\n",
    "cursor.execute('SELECT * FROM weather WHERE Season = \"Fall\"')\n",
    "fall_records = cursor.fetchall()\n",
    "\n",
    "#e) The city, country, and season for which the average rainfall is between 200 and 400 millimeters.\n",
    "cursor.execute('''\n",
    "    SELECT City, Country, Season\n",
    "    FROM weather\n",
    "    GROUP BY City, Country, Season\n",
    "    HAVING AVG(\"Rainfall(mm)\") BETWEEN 200 AND 400\n",
    "''')\n",
    "rainfall_between_200_400 = cursor.fetchall()\n",
    "#f) The city and country for which the average Fall temperature is above 20 degrees, in increasing temperature order.\n",
    "cursor.execute('''\n",
    "    SELECT City, Country\n",
    "    FROM weather\n",
    "    WHERE Season = \"Fall\"\n",
    "    GROUP BY City, Country\n",
    "    HAVING AVG(\"Temperature(C)\") > 20\n",
    "    ORDER BY AVG(\"Temperature(C)\") ASC\n",
    "''')\n",
    "high_temp_cities_in_fall = cursor.fetchall()\n",
    "\n",
    "#g) The total annual rainfall for Cairo.\n",
    "cursor.execute('SELECT SUM(\"Rainfall(mm)\") AS \"Total Rainfall\" FROM weather WHERE City = \"Cairo\"')\n",
    "cairo_total_rainfall = cursor.fetchone()[0]\n",
    "\n",
    "#h) The total rainfall for each season.\n",
    "cursor.execute('SELECT Season, SUM(\"Rainfall(mm)\") AS \"Total Rainfall\" FROM weather GROUP BY Season')\n",
    "total_rainfall_by_season = cursor.fetchall()\n",
    "\n",
    "# Print the results\n",
    "print(\"a) All Temperature Data:\", temperature_data)\n",
    "print(\"b) All Unique Cities:\", unique_cities)\n",
    "print(\"c) Records for India:\", india_records)\n",
    "print(\"d) Fall Records:\", fall_records)\n",
    "print(\"e) Average Rainfall between 200 and 400:\", rainfall_between_200_400)\n",
    "print(\"f) High-Temperature Cities in Fall:\", high_temp_cities_in_fall)\n",
    "print(\"g) Total Rainfall for Cairo:\", cairo_total_rainfall)\n",
    "print(\"h) Total Rainfall by Season:\", total_rainfall_by_season)\n",
    "\n",
    "\n",
    "conn.commit()\n",
    "conn.close()"
   ]
  },
  {
   "cell_type": "markdown",
   "id": "6a1df558",
   "metadata": {},
   "source": [
    "Question 9\n",
    "Suppose list words is defined as follows:\n",
    ">>> words = ['The', 'quick', 'brown', 'fox', 'jumps', 'over', \n",
    "'the', 'lazy', 'dog']\n",
    "Write list comprehension expressions that use list words and generate the following \n",
    "lists:"
   ]
  },
  {
   "cell_type": "markdown",
   "id": "36d357a0",
   "metadata": {},
   "source": [
    "a) ['THE', 'QUICK', 'BROWN', 'FOX', 'JUMPS', 'OVER', 'THE', \n",
    "'LAZY', 'DOG']"
   ]
  },
  {
   "cell_type": "code",
   "execution_count": 36,
   "id": "306ccbe7",
   "metadata": {},
   "outputs": [
    {
     "name": "stdout",
     "output_type": "stream",
     "text": [
      "['THE', 'QUICK', 'BROWN', 'FOX', 'JUMPS', 'OVER', 'THE', 'LAZY', 'DOG']\n"
     ]
    }
   ],
   "source": [
    "words =['The', 'quick', 'brown', 'fox', 'jumps', 'over', 'the', 'lazy', 'dog'] #Define a list of words\n",
    "uppercase_words = [word.upper() for word in words]\n",
    "print(uppercase_words)"
   ]
  },
  {
   "cell_type": "markdown",
   "id": "9cd3ff33",
   "metadata": {},
   "source": [
    "b) ['the', 'quick', 'brown', 'fox', 'jumps', 'over', 'the', \n",
    "'lazy', 'dog']"
   ]
  },
  {
   "cell_type": "code",
   "execution_count": 35,
   "id": "01f617bf",
   "metadata": {},
   "outputs": [
    {
     "name": "stdout",
     "output_type": "stream",
     "text": [
      "['the', 'quick', 'brown', 'fox', 'jumps', 'over', 'the', 'lazy', 'dog']\n"
     ]
    }
   ],
   "source": [
    "words =['The', 'quick', 'brown', 'fox', 'jumps', 'over', 'the', 'lazy', 'dog'] #Define a list of words\n",
    "lowercase_words = [word.lower() for word in words]\n",
    "print(lowercase_words)\n"
   ]
  },
  {
   "cell_type": "markdown",
   "id": "003d2a58",
   "metadata": {},
   "source": [
    "c) [3, 5, 5, 3, 5, 4, 3, 4, 3] (the list of lengths of words in list \n",
    "words)."
   ]
  },
  {
   "cell_type": "code",
   "execution_count": 34,
   "id": "eea86301",
   "metadata": {},
   "outputs": [
    {
     "name": "stdout",
     "output_type": "stream",
     "text": [
      "[3, 5, 5, 3, 5, 4, 3, 4, 3]\n"
     ]
    }
   ],
   "source": [
    "words =['The', 'quick', 'brown', 'fox', 'jumps', 'over', 'the', 'lazy', 'dog'] #Define a list of words\n",
    "word_lengths = [len(word) for word in words]\n",
    "print(word_lengths)"
   ]
  },
  {
   "cell_type": "markdown",
   "id": "52cdc2e3",
   "metadata": {},
   "source": [
    "d) [['THE', 'the', 3], ['QUICK', 'quick', 5], ['BROWN', \n",
    "'brown', 5], ['FOX', 'fox', 3], ['JUMPS', 'jumps', 5], \n",
    "['OVER', 'over', 4], ['THE', 'the', 3], ['LAZY', 'lazy', \n",
    "4], ['DOG', 'dog', 3]] (the list containing a list for every word of list words, where each list contains the word in uppercase and lowercase and the length of the word.)"
   ]
  },
  {
   "cell_type": "code",
   "execution_count": 33,
   "id": "59590c58",
   "metadata": {},
   "outputs": [
    {
     "name": "stdout",
     "output_type": "stream",
     "text": [
      "[['THE', 'the', 3], ['QUICK', 'quick', 5], ['BROWN', 'brown', 5], ['FOX', 'fox', 3], ['JUMPS', 'jumps', 5], ['OVER', 'over', 4], ['THE', 'the', 3], ['LAZY', 'lazy', 4], ['DOG', 'dog', 3]]\n"
     ]
    }
   ],
   "source": [
    "words =['The', 'quick', 'brown', 'fox', 'jumps', 'over', 'the', 'lazy', 'dog'] #Define a list of words\n",
    "word_info = [[word.upper(), word.lower(), len(word)] for word in words]\n",
    "print(word_info)"
   ]
  },
  {
   "cell_type": "markdown",
   "id": "c59b9295",
   "metadata": {},
   "source": [
    "e) ['The', 'quick', 'brown', 'fox', 'jumps', 'over', 'the', \n",
    "'lazy', 'dog'] (the list of words in list words containing 4 or more characters.)"
   ]
  },
  {
   "cell_type": "code",
   "execution_count": 32,
   "id": "630935db",
   "metadata": {},
   "outputs": [
    {
     "name": "stdout",
     "output_type": "stream",
     "text": [
      "['quick', 'brown', 'jumps', 'over', 'lazy']\n"
     ]
    }
   ],
   "source": [
    "words =['The', 'quick', 'brown', 'fox', 'jumps', 'over', 'the', 'lazy', 'dog'] #Define a list of words\n",
    "long_words = [word for word in words if len(word) >= 4]\n",
    "print(long_words)"
   ]
  }
 ],
 "metadata": {
  "kernelspec": {
   "display_name": "Python 3 (ipykernel)",
   "language": "python",
   "name": "python3"
  },
  "language_info": {
   "codemirror_mode": {
    "name": "ipython",
    "version": 3
   },
   "file_extension": ".py",
   "mimetype": "text/x-python",
   "name": "python",
   "nbconvert_exporter": "python",
   "pygments_lexer": "ipython3",
   "version": "3.11.5"
  }
 },
 "nbformat": 4,
 "nbformat_minor": 5
}
